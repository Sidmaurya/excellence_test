{
 "cells": [
  {
   "cell_type": "markdown",
   "metadata": {},
   "source": [
    "# Excellence Technologies Test"
   ]
  },
  {
   "cell_type": "markdown",
   "metadata": {},
   "source": [
    "## Question1\n",
    "Use python lists and make an list of numbers.\n",
    "Write a function which returns sum of the list of numbers\n"
   ]
  },
  {
   "cell_type": "code",
   "execution_count": 5,
   "metadata": {},
   "outputs": [
    {
     "name": "stdout",
     "output_type": "stream",
     "text": [
      "2 3 4\n",
      "9\n"
     ]
    }
   ],
   "source": [
    "def list_sum(my_lst):\n",
    "    return sum(my_lst)\n",
    "\n",
    "#my_lst=[3,5,7,3,2,6]\n",
    "my_lst=map(int,input().split(' '))\n",
    "res_sum=list_sum(my_lst)\n",
    "print(res_sum)"
   ]
  },
  {
   "cell_type": "markdown",
   "metadata": {},
   "source": [
    "## Question2 \n",
    "Setup a dict structure like this in python\n",
    "Dict1: (this is a key, value pair of user id and username)\n",
    "{\n",
    "   “1” : “name1”,\n",
    "   “2” : “name2”,\n",
    "   “3” : “name3”\n",
    "} etc.. \n",
    "Dict2: (this is a key value pair of user id and exam score) \n",
    "{\n",
    "   “1” : 50,\n",
    "   “2” : 60\n",
    "   “3” : 70\n",
    "}\n",
    "These are just sample data assume there are hundreds of users \n",
    "\n",
    "Write a function in python in python, which will return maximum i.e function should return dictionary like\n",
    "{\n",
    "  “3” : 70\n",
    "}\n"
   ]
  },
  {
   "cell_type": "code",
   "execution_count": 17,
   "metadata": {},
   "outputs": [
    {
     "name": "stdout",
     "output_type": "stream",
     "text": [
      "{'3': 70}\n"
     ]
    }
   ],
   "source": [
    "def max_marks(sam_dict):\n",
    "    val=max(sam_dict)\n",
    "\n",
    "    \n",
    "    return {val:sam_dict[val]}\n",
    "\n",
    "\n",
    "sam_dict={\n",
    "   \"1\" : 50,\n",
    "   \"2\" : 60,\n",
    "   \"3\" : 70\n",
    "}\n",
    "\n",
    "res_dict=max_marks(sam_dict)\n",
    "print(res_dict)"
   ]
  },
  {
   "cell_type": "markdown",
   "metadata": {},
   "source": [
    "## Question 3\n",
    "Assume we have list like this\n",
    "[0,0,0,1,1,1,0,0,0,1,1,0,1,1,1,1,0,0,1,1]\n",
    "Basically a list of zero’s and one’s.\n",
    "Write a python function to the number of maximum consecutive  one’s present in the array. \n",
    "E.g output for the above array would be 4\n"
   ]
  },
  {
   "cell_type": "code",
   "execution_count": 32,
   "metadata": {},
   "outputs": [
    {
     "name": "stdout",
     "output_type": "stream",
     "text": [
      "enter 0s and 1s0 0 0 0 1 1 1 0 1 0 11111\n"
     ]
    },
    {
     "data": {
      "text/plain": [
       "5"
      ]
     },
     "execution_count": 32,
     "metadata": {},
     "output_type": "execute_result"
    }
   ],
   "source": [
    "def max_consecutive(sam_lst):\n",
    "    lst_str=list(map(str,lst))\n",
    "    return len(max(\"\".join(lst_str).split('0')))\n",
    "    \n",
    "#lst=[0,0,0,1,1,1,0,0,0,1,1,0,1,1,1,1,0,0,1,1]\n",
    "lst=map(int,input(\"enter 0s and 1s\").split(' '))\n",
    "max_consecutive(lst)"
   ]
  },
  {
   "cell_type": "markdown",
   "metadata": {},
   "source": [
    "## Question 4\n",
    "Design a mysql database. Requirements are as follows \n",
    "We have a user entity with columns username, password\n",
    "Every use can have multiple addresses. Address entity will have column street, pincode, country, state, phone no. So one user can have multiple addresses. \n",
    "Design a db structure for this using create table sql syntax and submit that.\n",
    "Next,\n",
    "Write a route in flask GET, POST route to save a user, login a user, add/update address for that user.\n"
   ]
  },
  {
   "cell_type": "markdown",
   "metadata": {},
   "source": [
    "### creating database entity"
   ]
  },
  {
   "cell_type": "code",
   "execution_count": 46,
   "metadata": {},
   "outputs": [
    {
     "data": {
      "text/plain": [
       "0"
      ]
     },
     "execution_count": 46,
     "metadata": {},
     "output_type": "execute_result"
    }
   ],
   "source": [
    "import pymysql\n",
    "\n",
    "#creating connection\n",
    "\n",
    "connection=pymysql.connect(host= \"127.0.0.1\", \n",
    "                           user=\"root\", \n",
    "                           password=\"root\",\n",
    "                           db=\"my_db\")\n",
    "\n",
    "#creating cursor object\n",
    "cursor=connection.cursor()\n",
    "\n",
    "#writing sql query to create user table\n",
    "sql=\"CREATE TABLE user(id int NOT NULL AUTO_INCREMENT, username varchar(32), password varchar(32), PRIMARY KEY(id))\"\n",
    "\n",
    "cursor.execute(sql)\n",
    "\n",
    "#writing sql query to create Address table\n",
    "\n",
    "sql=\"CREATE TABLE Address(add_id int NOT NULL AUTO_INCREMENT, username varchar(32), street varchar(32), pincode varchar(32),country varchar(32), state varchar(32),phone varchar(32), PRIMARY KEY(add_id))\"\n",
    "\n",
    "cursor.execute(sql)"
   ]
  },
  {
   "cell_type": "code",
   "execution_count": 47,
   "metadata": {},
   "outputs": [],
   "source": [
    "cursor.close()\n",
    "connection.close()"
   ]
  },
  {
   "cell_type": "markdown",
   "metadata": {},
   "source": [
    "### creating flask app for get and post"
   ]
  },
  {
   "cell_type": "code",
   "execution_count": null,
   "metadata": {},
   "outputs": [
    {
     "name": "stdout",
     "output_type": "stream",
     "text": [
      " * Serving Flask app \"__main__\" (lazy loading)\n",
      " * Environment: production\n",
      "   WARNING: This is a development server. Do not use it in a production deployment.\n",
      "   Use a production WSGI server instead.\n",
      " * Debug mode: off\n"
     ]
    },
    {
     "name": "stderr",
     "output_type": "stream",
     "text": [
      " * Running on http://127.0.0.1:5000/ (Press CTRL+C to quit)\n",
      "127.0.0.1 - - [25/Dec/2020 01:38:42] \"\u001b[37mGET /get_address HTTP/1.1\u001b[0m\" 200 -\n"
     ]
    },
    {
     "name": "stdout",
     "output_type": "stream",
     "text": [
      "b'{\\r\\n\"username\":\"sidkmaurya\"\\r\\n}'\n"
     ]
    },
    {
     "name": "stderr",
     "output_type": "stream",
     "text": [
      "127.0.0.1 - - [25/Dec/2020 01:38:49] \"\u001b[37mGET /get_address HTTP/1.1\u001b[0m\" 200 -\n"
     ]
    },
    {
     "name": "stdout",
     "output_type": "stream",
     "text": [
      "b'{\\r\\n\"username\":\"sid\"\\r\\n}'\n"
     ]
    }
   ],
   "source": [
    "from flask import Flask,request\n",
    "\n",
    "app = Flask(__name__)\n",
    "\n",
    "def connection():\n",
    "    conn=pymysql.connect(host= \"127.0.0.1\", \n",
    "                           user=\"root\", \n",
    "                           password=\"root\",\n",
    "                           db=\"my_db\")\n",
    "    return conn\n",
    "\n",
    "@app.route('/register',methods=['POST'])\n",
    "def register():\n",
    "    print(request.data)\n",
    "    data=request.get_json(silent=True)\n",
    "    username=data['username']\n",
    "    password=data['password']\n",
    "    conn=connection()\n",
    "    cursor=conn.cursor()\n",
    "    sql='INSERT INTO user(username,password) values(%s,%s)'\n",
    "    \n",
    "    val=(username,password)\n",
    "    cursor.execute(sql,val)\n",
    "    conn.commit()\n",
    "    cursor.close()\n",
    "    conn.close()\n",
    "    payload=dict(status='success')\n",
    "    return payload\n",
    "\n",
    "\n",
    "\n",
    "@app.route('/login',methods=['POST'])\n",
    "def login():\n",
    "    print(request.data)\n",
    "    data=request.get_json(silent=True)\n",
    "    username=data['username']\n",
    "    password=data['password']\n",
    "    conn=connection()\n",
    "    cursor=conn.cursor()\n",
    "    sql='SELECT * FROM user WHERE username=%s and password=%s'\n",
    "    \n",
    "    val=(username,password)\n",
    "    cursor.execute(sql,val)\n",
    "    user_data=cursor.fetchall()\n",
    "    cursor.close()\n",
    "    conn.close()\n",
    "    if user_data:\n",
    "        payload=dict(status='login success')\n",
    "        return payload\n",
    "    else:\n",
    "        payload=dict(status='login failed')\n",
    "        return payload \n",
    "    \n",
    "@app.route('/add_address',methods=['POST'])\n",
    "def add_addr():\n",
    "    print(request.data)\n",
    "    data=request.get_json(silent=True)\n",
    "    street=data['street']\n",
    "    pincode=data['pincode']\n",
    "    country=data['country']\n",
    "    state=data['state']\n",
    "    phone=data['phone']\n",
    "    username=data['username']\n",
    "    \n",
    "    conn=connection()\n",
    "    cursor=conn.cursor()\n",
    "    sql='INSERT INTO address(street,pincode,country,state,phone,username) values(%s,%s,%s,%s,%s,%s)'\n",
    "    \n",
    "    val=(street,pincode,country,state,phone,username)\n",
    "    cursor.execute(sql,val)\n",
    "    conn.commit()\n",
    "    cursor.close()\n",
    "    conn.close()\n",
    "    payload=dict(status='address added')\n",
    "    return payload\n",
    "\n",
    "@app.route('/get_address',methods=['GET'])\n",
    "def get_addr():\n",
    "    print(request.data)\n",
    "    data=request.get_json(silent=True)\n",
    "    username=data['username']\n",
    "    conn=connection()\n",
    "    cursor=conn.cursor()\n",
    "    sql='SELECT * FROM address WHERE username=%s'\n",
    "    \n",
    "    val=(username)\n",
    "    cursor.execute(sql,val)\n",
    "    user_data=cursor.fetchall()\n",
    "    cursor.close()\n",
    "    conn.close()\n",
    "    if user_data:\n",
    "        payload=dict(address=user_data)\n",
    "        return payload\n",
    "    else:\n",
    "        payload=dict(status='user does not exist')\n",
    "        return payload \n",
    "\n",
    "if __name__ == '__main__':\n",
    "    app.run()"
   ]
  },
  {
   "cell_type": "code",
   "execution_count": null,
   "metadata": {},
   "outputs": [],
   "source": [
    "\"street\":\"street\"\n",
    "\"pincode\":\"pincode\"\n",
    "\"country\":\"country\"\n",
    "\"state\":\"state\"\n",
    "\"phone\":\"phone\""
   ]
  }
 ],
 "metadata": {
  "kernelspec": {
   "display_name": "Python 3",
   "language": "python",
   "name": "python3"
  },
  "language_info": {
   "codemirror_mode": {
    "name": "ipython",
    "version": 3
   },
   "file_extension": ".py",
   "mimetype": "text/x-python",
   "name": "python",
   "nbconvert_exporter": "python",
   "pygments_lexer": "ipython3",
   "version": "3.8.3"
  }
 },
 "nbformat": 4,
 "nbformat_minor": 4
}
